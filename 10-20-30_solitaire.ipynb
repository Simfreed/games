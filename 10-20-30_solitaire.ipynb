{
 "cells": [
  {
   "cell_type": "code",
   "execution_count": 165,
   "metadata": {},
   "outputs": [],
   "source": [
    "import numpy as np\n",
    "import myfun as mf\n",
    "import copy\n",
    "\n",
    "import matplotlib\n",
    "\n",
    "from matplotlib import colors, ticker, gridspec, rc, transforms\n",
    "from matplotlib.ticker import PercentFormatter, LogFormatter, FuncFormatter, LogLocator, AutoMinorLocator\n",
    "from mpl_toolkits.axes_grid1 import make_axes_locatable\n",
    "from collections import Counter, OrderedDict\n",
    "import matplotlib.pyplot as plt\n",
    "\n",
    "from sklearn import naive_bayes as NB\n",
    "from sklearn.linear_model import LogisticRegression as logreg\n",
    "from sklearn.discriminant_analysis import LinearDiscriminantAnalysis as LDA\n",
    "\n",
    "from numpy import linalg as linalg\n",
    "from importlib import reload\n",
    "\n",
    "from mpl_toolkits.mplot3d import Axes3D\n",
    "\n",
    "from scipy.optimize import minimize, basinhopping, dual_annealing\n",
    "\n",
    "import emcee"
   ]
  },
  {
   "cell_type": "code",
   "execution_count": 6,
   "metadata": {},
   "outputs": [],
   "source": [
    "deck=np.hstack([[i for j in range(4) for i in range(1,10)],10*np.ones(16)])"
   ]
  },
  {
   "cell_type": "code",
   "execution_count": 16,
   "metadata": {},
   "outputs": [],
   "source": [
    "ncards = len(deck)\n",
    "ngames = 100\n"
   ]
  },
  {
   "cell_type": "code",
   "execution_count": 18,
   "metadata": {},
   "outputs": [
    {
     "data": {
      "text/plain": [
       "True"
      ]
     },
     "execution_count": 18,
     "metadata": {},
     "output_type": "execute_result"
    }
   ],
   "source": [
    "np.array_equal(np.sort(deck[shuf]),np.sort(deck))"
   ]
  },
  {
   "cell_type": "code",
   "execution_count": 242,
   "metadata": {},
   "outputs": [
    {
     "ename": "IndexError",
     "evalue": "list index out of range",
     "output_type": "error",
     "traceback": [
      "\u001b[0;31m---------------------------------------------------------------------------\u001b[0m",
      "\u001b[0;31mIndexError\u001b[0m                                Traceback (most recent call last)",
      "\u001b[0;32m<ipython-input-242-d18acedb6005>\u001b[0m in \u001b[0;36m<module>\u001b[0;34m\u001b[0m\n\u001b[1;32m      1\u001b[0m \u001b[0mz\u001b[0m\u001b[0;34m=\u001b[0m\u001b[0;34m[\u001b[0m\u001b[0;34m]\u001b[0m\u001b[0;34m\u001b[0m\u001b[0;34m\u001b[0m\u001b[0m\n\u001b[0;32m----> 2\u001b[0;31m \u001b[0midxs2pop\u001b[0m\u001b[0;34m[\u001b[0m\u001b[0mz\u001b[0m\u001b[0;34m[\u001b[0m\u001b[0;36m0\u001b[0m\u001b[0;34m]\u001b[0m\u001b[0;34m]\u001b[0m\u001b[0;34m\u001b[0m\u001b[0;34m\u001b[0m\u001b[0m\n\u001b[0m",
      "\u001b[0;31mIndexError\u001b[0m: list index out of range"
     ]
    }
   ],
   "source": [
    "z=[]\n",
    "idxs2pop[z[0]]"
   ]
  },
  {
   "cell_type": "code",
   "execution_count": 342,
   "metadata": {},
   "outputs": [],
   "source": [
    "idxs2pop         = [[-3,-2,-1], [-2,-1,0], [-1,0,0]]\n",
    "\n",
    "def play_game(seed=None, npiles_init = 7, max_iter = 1000):\n",
    "    \n",
    "    np.random.seed(seed)\n",
    "\n",
    "    won        = False\n",
    "    piles      = [[] for i in range(npiles_init)]\n",
    "    \n",
    "    shuf       = np.random.choice(np.arange(ncards),size=ncards,replace=False)\n",
    "    game_deck  = list(np.array(deck[shuf],dtype=int))\n",
    "    pos        = 0\n",
    "    remove_idx = -1\n",
    "    iter_ct    = 0 \n",
    "    while len(game_deck)>0 and not won and iter_ct < max_iter:\n",
    "        iter_ct += 1\n",
    "        for i in range(pos,len(piles)):\n",
    "\n",
    "            piles[i].append(game_deck.pop(0))\n",
    "\n",
    "            #set_idxs = get_set(piles[i])\n",
    "            set_pick = get_set_strat(piles[i])\n",
    "            set_idxs = idxs2pop[set_pick[0]] if len(set_pick) > 0 else None\n",
    "            while set_idxs:\n",
    "                for idx in set_idxs:\n",
    "                    game_deck.append(piles[i].pop(idx))\n",
    "                set_idxs = get_set(piles[i])\n",
    "\n",
    "            if len(piles[i]) == 0:\n",
    "                remove_idx = i\n",
    "                break\n",
    "\n",
    "            if len(game_deck) == 0: # lost\n",
    "                break\n",
    "\n",
    "        if remove_idx > -1:\n",
    "            piles.pop(remove_idx)\n",
    "            if len(piles) == 1: # won\n",
    "                won = True\n",
    "            pos = copy.copy(remove_idx)\n",
    "            remove_idx = -1\n",
    "        else:\n",
    "            pos = 0\n",
    "    \n",
    "    return piles, game_deck, iter_ct"
   ]
  },
  {
   "cell_type": "code",
   "execution_count": 343,
   "metadata": {},
   "outputs": [],
   "source": [
    "ngames = 1000\n",
    "ps     = [play_game() for i in range(ngames)]"
   ]
  },
  {
   "cell_type": "code",
   "execution_count": 344,
   "metadata": {},
   "outputs": [],
   "source": [
    "npiles = [len(gm[0]) for gm in ps]"
   ]
  },
  {
   "cell_type": "code",
   "execution_count": 345,
   "metadata": {},
   "outputs": [],
   "source": [
    "bins = np.arange(1,9)\n",
    "bcs = np.histogram(npiles,bins,density=True)[0]\n",
    "bin_ctrs = 0.5*(bins[1:]+bins[:-1])"
   ]
  },
  {
   "cell_type": "code",
   "execution_count": 346,
   "metadata": {},
   "outputs": [
    {
     "data": {
      "text/plain": [
       "array([0.022, 0.026, 0.06 , 0.157, 0.238, 0.318, 0.179])"
      ]
     },
     "execution_count": 346,
     "metadata": {},
     "output_type": "execute_result"
    }
   ],
   "source": [
    "bcs"
   ]
  },
  {
   "cell_type": "code",
   "execution_count": 347,
   "metadata": {},
   "outputs": [
    {
     "data": {
      "text/plain": [
       "(0.5, 7.5)"
      ]
     },
     "execution_count": 347,
     "metadata": {},
     "output_type": "execute_result"
    },
    {
     "data": {
      "image/png": "[encoded data removed]",
      "text/plain": [
       "<Figure size 432x288 with 1 Axes>"
      ]
     },
     "metadata": {
      "needs_background": "light"
     },
     "output_type": "display_data"
    }
   ],
   "source": [
    "fig,axs=plt.subplots()\n",
    "axs.bar(bins[:-1],bcs)\n",
    "axs.set_xlim(0.5,7.5)"
   ]
  },
  {
   "cell_type": "code",
   "execution_count": 157,
   "metadata": {},
   "outputs": [],
   "source": [
    "p,d,ic = play_game(seed=1)"
   ]
  },
  {
   "cell_type": "code",
   "execution_count": 86,
   "metadata": {},
   "outputs": [
    {
     "data": {
      "text/plain": [
       "True"
      ]
     },
     "execution_count": 86,
     "metadata": {},
     "output_type": "execute_result"
    }
   ],
   "source": [
    "np.array_equal(np.sort(mf.flatten2d(piles)),np.sort(deck))"
   ]
  },
  {
   "cell_type": "code",
   "execution_count": 72,
   "metadata": {},
   "outputs": [
    {
     "data": {
      "text/plain": [
       "[[10.0, 9.0, 7.0],\n",
       " [3.0],\n",
       " [10.0, 8.0],\n",
       " [7.0, 10.0],\n",
       " [5.0, 4.0],\n",
       " [9.0, 6.0],\n",
       " [1.0, 10.0]]"
      ]
     },
     "execution_count": 72,
     "metadata": {},
     "output_type": "execute_result"
    }
   ],
   "source": [
    "piles"
   ]
  },
  {
   "cell_type": "code",
   "execution_count": 200,
   "metadata": {},
   "outputs": [],
   "source": [
    "win_sums = [10,20,30]\n",
    "def get_set(pile):\n",
    "    if len(pile) < 3:\n",
    "        return None\n",
    "    elif len(pile) == 3:\n",
    "        if sum(pile)%10==0:\n",
    "            return [-3,-2,-1]\n",
    "        else: \n",
    "            return None\n",
    "    else:\n",
    "        bot3_sum = sum(pile[-3:])\n",
    "        bot2_sum = pile[-2] + pile[-1] + pile[0]\n",
    "        bot1_sum = pile[-1] + pile[0]  + pile[1]\n",
    "        \n",
    "        if bot1_sum%10 ==0:\n",
    "            return [-1,0,0] # because its used for pop, once you pop off 0, 1-->0\n",
    "        elif bot2_sum%10 ==0:\n",
    "            return [-2,-1,0]\n",
    "        elif bot3_sum%10 ==0:\n",
    "            return [-3,-2,-1]\n",
    "        else:\n",
    "            return None"
   ]
  },
  {
   "cell_type": "code",
   "execution_count": 341,
   "metadata": {},
   "outputs": [],
   "source": [
    "win_sums         = [10,20,30]\n",
    "idxs2pop         = [[-3,-2,-1], [-2,-1,0], [-1,0,0]]\n",
    "remaining_slices = [[0,-3], [1,-2], [2,-1]]\n",
    "\n",
    "# []  --> None\n",
    "# [0] --> bot 3\n",
    "# [1] --> bot 2 top 1\n",
    "# [2] --> bot 1 top 2\n",
    "\n",
    "def get_set_strat(pile):\n",
    "    if len(pile) < 3:\n",
    "        return []\n",
    "    elif len(pile) == 3:\n",
    "        if sum(pile)%10==0:\n",
    "            return [0]\n",
    "        else: \n",
    "            return []\n",
    "    else:\n",
    "        bot_sums    = np.zeros(3)\n",
    "        bot_sums[0] = sum(pile[-3:])\n",
    "        bot_sums[1] = pile[-2] + pile[-1] + pile[0]\n",
    "        bot_sums[2] = pile[-1] + pile[0]  + pile[1]\n",
    "        \n",
    "        #bot_sums_mod10  = bot_sums % 10\n",
    "        mod10_zero_idxs = np.where(bot_sums % 10 == 0)[0]\n",
    "        \n",
    "        if len(mod10_zero_idxs) == 0:\n",
    "            return []\n",
    "        elif len(mod10_zero_idxs) == 1:\n",
    "            return [mod10_zero_idxs[0]]\n",
    "        else:\n",
    "            # first check if any more sets...\n",
    "            all_sets = [[] for i in range(len(mod10_zero_idxs))]\n",
    "            for i,idx in zip(range(len(mod10_zero_idxs)),mod10_zero_idxs):\n",
    "                all_sets[i] = [idx] + get_set_strat(\n",
    "                    pile[remaining_slices[idx][0]:remaining_slices[idx][1]]\n",
    "                )\n",
    "            \n",
    "            n_all_sets    = np.array([len(x) for x in all_sets])\n",
    "            best_set_idxs = mod10_zero_idxs[np.argwhere(n_all_sets == np.amax(n_all_sets)).flatten()]\n",
    "            if len(best_set_idxs == 1): # a clear winner\n",
    "                return [best_set_idxs[0]]\n",
    "            else:\n",
    "                \n",
    "                # take the top cards\n",
    "                return [np.amax(best_set_idxs)]\n",
    "                \n",
    "                # other possible rules\n",
    "                # take things that are doubled (e.g., 8-8-4)\n",
    "                # leave 10s on top\n",
    "                # leave sums of 10 (0:2) on top"
   ]
  },
  {
   "cell_type": "code",
   "execution_count": null,
   "metadata": {},
   "outputs": [],
   "source": []
  }
 ],
 "metadata": {
  "kernelspec": {
   "display_name": "Python (ml3)",
   "language": "python",
   "name": "ml3"
  },
  "language_info": {
   "codemirror_mode": {
    "name": "ipython",
    "version": 3
   },
   "file_extension": ".py",
   "mimetype": "text/x-python",
   "name": "python",
   "nbconvert_exporter": "python",
   "pygments_lexer": "ipython3",
   "version": "3.7.4"
  }
 },
 "nbformat": 4,
 "nbformat_minor": 2
}
