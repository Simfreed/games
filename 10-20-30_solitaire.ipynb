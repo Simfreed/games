{
 "cells": [
  {
   "cell_type": "code",
   "execution_count": 3,
   "metadata": {},
   "outputs": [],
   "source": [
    "import numpy as np\n",
    "#import myfun as mf\n",
    "import copy\n",
    "\n",
    "import matplotlib\n",
    "\n",
    "from matplotlib import colors, ticker, gridspec, rc, transforms\n",
    "from matplotlib.ticker import PercentFormatter, LogFormatter, FuncFormatter, LogLocator, AutoMinorLocator\n",
    "from mpl_toolkits.axes_grid1 import make_axes_locatable\n",
    "from collections import Counter, OrderedDict\n",
    "import matplotlib.pyplot as plt\n",
    "\n",
    "from sklearn import naive_bayes as NB\n",
    "from sklearn.linear_model import LogisticRegression as logreg\n",
    "from sklearn.discriminant_analysis import LinearDiscriminantAnalysis as LDA\n",
    "\n",
    "from numpy import linalg as linalg\n",
    "from importlib import reload\n",
    "\n",
    "from mpl_toolkits.mplot3d import Axes3D\n",
    "\n",
    "from scipy.optimize import minimize, basinhopping, dual_annealing\n",
    "\n",
    "import networkx as nx\n",
    "#import emcee"
   ]
  },
  {
   "cell_type": "code",
   "execution_count": 4,
   "metadata": {},
   "outputs": [],
   "source": [
    "deck=np.hstack([[i for j in range(4) for i in range(1,10)],10*np.ones(16)])"
   ]
  },
  {
   "cell_type": "code",
   "execution_count": 5,
   "metadata": {},
   "outputs": [],
   "source": [
    "win_sums = [10,20,30]\n",
    "def get_set(pile):\n",
    "    if len(pile) < 3:\n",
    "        return None\n",
    "    elif len(pile) == 3:\n",
    "        if sum(pile)%10==0:\n",
    "            return [-3,-2,-1]\n",
    "        else: \n",
    "            return None\n",
    "    else:\n",
    "        bot3_sum = sum(pile[-3:])\n",
    "        bot2_sum = pile[-2] + pile[-1] + pile[0]\n",
    "        bot1_sum = pile[-1] + pile[0]  + pile[1]\n",
    "        \n",
    "        if bot1_sum%10 ==0:\n",
    "            return [-1,0,0] # because its used for pop, once you pop off 0, 1-->0\n",
    "        elif bot2_sum%10 ==0:\n",
    "            return [-2,-1,0]\n",
    "        elif bot3_sum%10 ==0:\n",
    "            return [-3,-2,-1]\n",
    "        else:\n",
    "            return None"
   ]
  },
  {
   "cell_type": "code",
   "execution_count": 6,
   "metadata": {},
   "outputs": [],
   "source": [
    "win_sums         = [10,20,30]\n",
    "idxs2pop         = [[-3,-2,-1], [-2,-1,0], [-1,0,0]]\n",
    "remaining_slices = [[0,-3], [1,-2], [2,-1]]\n",
    "\n",
    "# []  --> None\n",
    "# [0] --> bot 3\n",
    "# [1] --> bot 2 top 1\n",
    "# [2] --> bot 1 top 2\n",
    "\n",
    "def get_set_strat(pile):\n",
    "    if len(pile) < 3:\n",
    "        return []\n",
    "    elif len(pile) == 3:\n",
    "        if sum(pile)%10==0:\n",
    "            return [0]\n",
    "        else: \n",
    "            return []\n",
    "    else:\n",
    "        bot_sums    = np.zeros(3)\n",
    "        bot_sums[0] = sum(pile[-3:])\n",
    "        bot_sums[1] = pile[-2] + pile[-1] + pile[0]\n",
    "        bot_sums[2] = pile[-1] + pile[0]  + pile[1]\n",
    "        \n",
    "        #bot_sums_mod10  = bot_sums % 10\n",
    "        mod10_zero_idxs = np.where(bot_sums % 10 == 0)[0]\n",
    "        \n",
    "        if len(mod10_zero_idxs) == 0:\n",
    "            return []\n",
    "        elif len(mod10_zero_idxs) == 1:\n",
    "            return [mod10_zero_idxs[0]]\n",
    "        else:\n",
    "            # first check if any more sets...\n",
    "            all_sets = [[] for i in range(len(mod10_zero_idxs))]\n",
    "            for i,idx in zip(range(len(mod10_zero_idxs)),mod10_zero_idxs):\n",
    "                all_sets[i] = [idx] + get_set_strat(\n",
    "                    pile[remaining_slices[idx][0]:remaining_slices[idx][1]]\n",
    "                )\n",
    "            \n",
    "            n_all_sets    = np.array([len(x) for x in all_sets])\n",
    "            print(all_sets)\n",
    "            print(n_all_sets)\n",
    "            best_set_idxs = mod10_zero_idxs[np.argwhere(n_all_sets == np.amax(n_all_sets)).flatten()]\n",
    "            if len(best_set_idxs == 1): # a clear winner\n",
    "                return [best_set_idxs[0]]\n",
    "            else:\n",
    "                \n",
    "                # take the top cards\n",
    "                return [np.amax(best_set_idxs)]\n",
    "                \n",
    "                # other possible rules\n",
    "                # take things that are doubled (e.g., 8-8-4)\n",
    "                # leave 10s on top\n",
    "                # leave sums of 10 (0:2) on top"
   ]
  },
  {
   "cell_type": "code",
   "execution_count": 134,
   "metadata": {},
   "outputs": [],
   "source": [
    "#idxs2pop         = [[-3,-2,-1],[-2,-1,0]]\n",
    "\n",
    "def play_game(seed=None, npiles_init = 7, max_iter = 1000):\n",
    "    \n",
    "    np.random.seed(seed)\n",
    "\n",
    "    won        = False\n",
    "    piles      = [[] for i in range(npiles_init)]\n",
    "    \n",
    "    shuf       = np.random.choice(np.arange(ncards),size=ncards,replace=False)\n",
    "    game_deck  = list(np.array(deck[shuf],dtype=int))\n",
    "    pos        = 0\n",
    "    remove_idx = -1\n",
    "    iter_ct    = 0 \n",
    "    while len(game_deck)>0 and not won and iter_ct < max_iter:\n",
    "        iter_ct += 1\n",
    "        for i in range(pos,len(piles)):\n",
    "\n",
    "            piles[i].append(game_deck.pop(0))\n",
    "\n",
    "            #set_idxs = get_set(piles[i])\n",
    "            set_pick = get_set_strat(piles[i])\n",
    "            set_idxs = idxs2pop[set_pick[0]] if len(set_pick) > 0 else None\n",
    "            while set_idxs:\n",
    "                for idx in set_idxs:\n",
    "                    game_deck.append(piles[i].pop(idx))\n",
    "                set_idxs = get_set(piles[i])\n",
    "\n",
    "            if len(piles[i]) == 0:\n",
    "                remove_idx = i\n",
    "                break\n",
    "\n",
    "            if len(game_deck) == 0: # lost\n",
    "                break\n",
    "\n",
    "        if remove_idx > -1:\n",
    "            piles.pop(remove_idx)\n",
    "            if len(piles) == 0: # won\n",
    "                won = True\n",
    "            pos = copy.copy(remove_idx)\n",
    "            remove_idx = -1\n",
    "        else:\n",
    "            pos = 0\n",
    "    \n",
    "    return piles, game_deck, iter_ct"
   ]
  },
  {
   "cell_type": "code",
   "execution_count": 75,
   "metadata": {},
   "outputs": [
    {
     "data": {
      "text/plain": [
       "9"
      ]
     },
     "execution_count": 75,
     "metadata": {},
     "output_type": "execute_result"
    }
   ],
   "source": []
  },
  {
   "cell_type": "code",
   "execution_count": 273,
   "metadata": {},
   "outputs": [],
   "source": [
    "win_sums         = [10,20,30]\n",
    "idxs2sum         = [[-3,-2,-1], [-2,-1,0], [-1,0,1]]\n",
    "nopt             = len(idxs2sum)\n",
    "idxs2pop         = [[-3,-2,-1], [-2,-1,0], [-1,0,0]]\n",
    "remaining_slices = [[0,-3], [1,-2], [2,-1]]\n",
    "\n",
    "def get_sets(pile, sets):\n",
    "    #print(pile)\n",
    "    if len(sets)>0 and sets[-1] is None:\n",
    "        return sets\n",
    "    elif len(pile) < 3:\n",
    "        return sets+[None]\n",
    "    else:\n",
    "        on_sets = [None, None, None]\n",
    "        for i in range(nopt):\n",
    "            if sum(pile[idxs2sum[i]])%10==0:\n",
    "                on_sets[i] = i\n",
    "        \n",
    "#         return [get_sets(pile[remaining_slices[i][0]:remaining_slices[i][1]], sets+[on_sets[i]]) \n",
    "#                 for i in range(nopt)]\n",
    "        return get_sets(pile[remaining_slices[0][0]:remaining_slices[0][1]], sets+[on_sets[0]])+\\\n",
    "               get_sets(pile[remaining_slices[1][0]:remaining_slices[1][1]], sets+[on_sets[1]])+\\\n",
    "               get_sets(pile[remaining_slices[2][0]:remaining_slices[2][1]], sets+[on_sets[2]])\n",
    "\n",
    "def get_sets_split(pile):\n",
    "    seq         = get_sets(pile, [])\n",
    "    seqs_split  = []\n",
    "    current_seq = []\n",
    "    for i in range(len(seq)):\n",
    "        if seq[i] is not None:\n",
    "            current_seq = current_seq + [seq[i]]\n",
    "        else:\n",
    "            if len(current_seq) > 0:\n",
    "                seqs_split.append(tuple(current_seq))\n",
    "            current_seq = []\n",
    "    return list(set(seqs_split))\n",
    "\n",
    "def get_best_set(pile):\n",
    "    seqs         = get_sets_split(pile)\n",
    "    \n",
    "    if len(seqs) == 0: # no sets\n",
    "        return ()\n",
    "    \n",
    "    \n",
    "    set_len      = np.array([len(x) for x in seqs])\n",
    "    max_len      = np.amax(set_len)\n",
    "    longest_runs = np.where(set_len==max_len)[0]\n",
    "    \n",
    "    if len(longest_runs) == 1: # one best set sequence\n",
    "        return seqs[longest_runs[0]]\n",
    "    \n",
    "    if len(pile) == 3: # common practice...\n",
    "        return (0,)\n",
    "\n",
    "    #set_entropy = np.array([sum(seqs[i]) for i in longest_runs])\n",
    "    #set_pick = np.argmax(set_entropy)\n",
    "    set_pick = np.random.choice(len(longest_runs))\n",
    "    return seqs[longest_runs[set_pick]]"
   ]
  },
  {
   "cell_type": "code",
   "execution_count": 274,
   "metadata": {},
   "outputs": [],
   "source": [
    "def play_game(seed=None, npiles_init = 7, max_iter = 1000):\n",
    "    \n",
    "    np.random.seed(seed)\n",
    "\n",
    "    won        = False\n",
    "    piles      = [[] for i in range(npiles_init)]\n",
    "    \n",
    "    shuf       = np.random.choice(np.arange(deck.shape[0]),size=deck.shape[0],replace=False)\n",
    "    game_deck  = list(np.array(deck[shuf],dtype=int))\n",
    "    pos        = 0\n",
    "    remove_idx = -1\n",
    "    iter_ct    = 0 \n",
    "    while len(game_deck)>0 and not won and iter_ct < max_iter:\n",
    "        iter_ct += 1\n",
    "        \n",
    "        # iterate through the piles\n",
    "        for i in range(pos,len(piles)):\n",
    "            piles[i].append(game_deck.pop(0))\n",
    "            #print(piles[i])\n",
    "            sets2pop = get_best_set(np.array(piles[i]))\n",
    "            for j in sets2pop:\n",
    "                for idx in idxs2pop[j]:\n",
    "                    game_deck.append(piles[i].pop(idx))\n",
    "\n",
    "            if len(piles[i]) == 0:\n",
    "                remove_idx = i\n",
    "                break\n",
    "\n",
    "            if len(game_deck) == 0: # lost\n",
    "                break\n",
    "\n",
    "        if remove_idx > -1:\n",
    "            piles.pop(remove_idx)\n",
    "            if len(piles) == 0: # won\n",
    "                won = True\n",
    "            pos = copy.copy(remove_idx)\n",
    "            remove_idx = -1\n",
    "        else:\n",
    "            pos = 0\n",
    "    \n",
    "    return piles, game_deck, iter_ct"
   ]
  },
  {
   "cell_type": "code",
   "execution_count": 275,
   "metadata": {},
   "outputs": [],
   "source": [
    "ngames = 10000\n",
    "ps     = [play_game(max_iter=500) for i in range(ngames)]"
   ]
  },
  {
   "cell_type": "code",
   "execution_count": 276,
   "metadata": {},
   "outputs": [],
   "source": [
    "npiles = np.array([len(gm[0]) for gm in ps])\n",
    "nmoves = np.array([gm[2] for gm in ps])"
   ]
  },
  {
   "cell_type": "code",
   "execution_count": 277,
   "metadata": {},
   "outputs": [
    {
     "data": {
      "text/plain": [
       "(array([ 209.,    3.,  274.,  709., 1442., 2560., 2933., 1870.]),\n",
       " array([-0.5,  0.5,  1.5,  2.5,  3.5,  4.5,  5.5,  6.5,  7.5]),\n",
       " <BarContainer object of 8 artists>)"
      ]
     },
     "execution_count": 277,
     "metadata": {},
     "output_type": "execute_result"
    },
    {
     "data": {
      "image/png": "[encoded data removed]",
      "text/plain": [
       "<Figure size 432x288 with 1 Axes>"
      ]
     },
     "metadata": {
      "needs_background": "light"
     },
     "output_type": "display_data"
    }
   ],
   "source": [
    "fig,axs=plt.subplots()\n",
    "axs.hist(npiles, bins=np.arange(-0.5,8.5,1))"
   ]
  },
  {
   "cell_type": "code",
   "execution_count": 279,
   "metadata": {},
   "outputs": [
    {
     "data": {
      "image/png": "[encoded data removed]",
      "text/plain": [
       "<Figure size 432x288 with 1 Axes>"
      ]
     },
     "metadata": {
      "needs_background": "light"
     },
     "output_type": "display_data"
    }
   ],
   "source": [
    "fig,axs=plt.subplots()\n",
    "axs.hist(nmoves, bins=100)\n",
    "axs.hist(nmoves[npiles==0], bins=100)\n",
    "\n",
    "axs.set_yscale('symlog')"
   ]
  },
  {
   "cell_type": "code",
   "execution_count": 261,
   "metadata": {},
   "outputs": [
    {
     "data": {
      "text/plain": [
       "([[9, 8, 5, 8, 10, 3, 6, 7, 1],\n",
       "  [2, 10, 10, 7, 5, 10, 1, 4, 7, 10, 1, 10],\n",
       "  [3, 10, 2, 5, 10, 6, 9, 6, 10, 5, 10, 4, 10, 8],\n",
       "  [8, 1, 4, 10, 2, 10, 4, 10, 10, 3, 3, 2, 9, 6, 7, 10, 9]],\n",
       " [],\n",
       " 27)"
      ]
     },
     "execution_count": 261,
     "metadata": {},
     "output_type": "execute_result"
    }
   ],
   "source": [
    "play_game(max_iter=5000)"
   ]
  },
  {
   "cell_type": "code",
   "execution_count": 262,
   "metadata": {},
   "outputs": [
    {
     "data": {
      "text/plain": [
       "()"
      ]
     },
     "execution_count": 262,
     "metadata": {},
     "output_type": "execute_result"
    }
   ],
   "source": [
    "get_best_set(np.array([5,4]))"
   ]
  },
  {
   "cell_type": "code",
   "execution_count": 192,
   "metadata": {},
   "outputs": [
    {
     "name": "stdout",
     "output_type": "stream",
     "text": [
      "-3\n",
      "-2\n",
      "-1\n"
     ]
    }
   ],
   "source": [
    "for i in get_best_set(np.array([3, 10, 10, 10])):\n",
    "    for j in idxs2pop[i]:\n",
    "        print(j)"
   ]
  },
  {
   "cell_type": "code",
   "execution_count": 177,
   "metadata": {},
   "outputs": [
    {
     "data": {
      "text/plain": [
       "(['a', 'b', 'c'], ['d', 'e', 'f', 'g', 'h', 'i', 'j'])"
      ]
     },
     "execution_count": 177,
     "metadata": {},
     "output_type": "execute_result"
    }
   ],
   "source": [
    "a=['a','b','c']\n",
    "b=['d','e','f','g','h','i','j']\n",
    "a,b"
   ]
  },
  {
   "cell_type": "code",
   "execution_count": 178,
   "metadata": {},
   "outputs": [],
   "source": [
    "for i in get_best_set(np.array([10,10,3, 10, 10,7, 10])):\n",
    "    for j in idxs2pop[i]:\n",
    "        a.append(b.pop(j))"
   ]
  },
  {
   "cell_type": "code",
   "execution_count": 190,
   "metadata": {},
   "outputs": [
    {
     "data": {
      "text/plain": [
       "()"
      ]
     },
     "execution_count": 190,
     "metadata": {},
     "output_type": "execute_result"
    }
   ],
   "source": [
    "get_best_set(np.array([2,1]))"
   ]
  },
  {
   "cell_type": "code",
   "execution_count": 154,
   "metadata": {},
   "outputs": [
    {
     "data": {
      "text/plain": [
       "[-3, -2, -1]"
      ]
     },
     "execution_count": 154,
     "metadata": {},
     "output_type": "execute_result"
    }
   ],
   "source": [
    "idxs2pop[0]"
   ]
  },
  {
   "cell_type": "code",
   "execution_count": 254,
   "metadata": {},
   "outputs": [
    {
     "data": {
      "text/plain": [
       "[[3,\n",
       "  1,\n",
       "  7,\n",
       "  2,\n",
       "  1,\n",
       "  6,\n",
       "  10,\n",
       "  4,\n",
       "  8,\n",
       "  7,\n",
       "  5,\n",
       "  10,\n",
       "  10,\n",
       "  10,\n",
       "  10,\n",
       "  10,\n",
       "  10,\n",
       "  4,\n",
       "  8,\n",
       "  8,\n",
       "  5,\n",
       "  10,\n",
       "  5,\n",
       "  10,\n",
       "  10,\n",
       "  10,\n",
       "  1,\n",
       "  1,\n",
       "  8,\n",
       "  3,\n",
       "  4,\n",
       "  3,\n",
       "  6,\n",
       "  10,\n",
       "  4,\n",
       "  7,\n",
       "  10,\n",
       "  3],\n",
       " [5, 2, 6, 8, 6, 10, 10, 10, 4, 8, 8, 10, 10, 10, 10, 10, 10, 10, 9, 1],\n",
       " [10,\n",
       "  10,\n",
       "  10,\n",
       "  10,\n",
       "  10,\n",
       "  4,\n",
       "  5,\n",
       "  1,\n",
       "  2,\n",
       "  8,\n",
       "  10,\n",
       "  4,\n",
       "  10,\n",
       "  6,\n",
       "  3,\n",
       "  2,\n",
       "  5,\n",
       "  8,\n",
       "  7,\n",
       "  5,\n",
       "  8,\n",
       "  3,\n",
       "  9,\n",
       "  5,\n",
       "  3,\n",
       "  2,\n",
       "  10,\n",
       "  10,\n",
       "  10,\n",
       "  6,\n",
       "  6,\n",
       "  8],\n",
       " [10, 2, 1, 10, 9, 10, 8, 2, 10, 1, 9, 10, 3, 7, 10, 10, 10, 6, 3, 1, 6, 2, 2],\n",
       " [10, 1, 10, 10, 10, 10, 8, 2, 10, 3, 7, 4, 2, 4, 4, 10, 6, 3, 10, 7, 9, 5, 6],\n",
       " [10,\n",
       "  5,\n",
       "  2,\n",
       "  10,\n",
       "  8,\n",
       "  3,\n",
       "  9,\n",
       "  8,\n",
       "  10,\n",
       "  1,\n",
       "  9,\n",
       "  4,\n",
       "  6,\n",
       "  10,\n",
       "  10,\n",
       "  10,\n",
       "  10,\n",
       "  9,\n",
       "  1,\n",
       "  10,\n",
       "  10,\n",
       "  10,\n",
       "  10,\n",
       "  7,\n",
       "  5,\n",
       "  8,\n",
       "  10,\n",
       "  8,\n",
       "  2,\n",
       "  4,\n",
       "  7,\n",
       "  9,\n",
       "  10,\n",
       "  6,\n",
       "  4],\n",
       " [1,\n",
       "  4,\n",
       "  10,\n",
       "  8,\n",
       "  2,\n",
       "  10,\n",
       "  10,\n",
       "  10,\n",
       "  4,\n",
       "  10,\n",
       "  6,\n",
       "  10,\n",
       "  3,\n",
       "  7,\n",
       "  3,\n",
       "  3,\n",
       "  4,\n",
       "  8,\n",
       "  10,\n",
       "  2,\n",
       "  4,\n",
       "  10,\n",
       "  6,\n",
       "  10,\n",
       "  10,\n",
       "  10,\n",
       "  9,\n",
       "  1,\n",
       "  10,\n",
       "  3,\n",
       "  5,\n",
       "  2]]"
      ]
     },
     "execution_count": 254,
     "metadata": {},
     "output_type": "execute_result"
    }
   ],
   "source": [
    "[ps[x][1] for x in np.where(npiles==1)[0]]"
   ]
  },
  {
   "cell_type": "code",
   "execution_count": 211,
   "metadata": {},
   "outputs": [
    {
     "data": {
      "text/plain": [
       "18"
      ]
     },
     "execution_count": 211,
     "metadata": {},
     "output_type": "execute_result"
    }
   ],
   "source": [
    "len(np.where(npiles==0)[0])"
   ]
  },
  {
   "cell_type": "code",
   "execution_count": 124,
   "metadata": {},
   "outputs": [],
   "source": [
    "i=0\n",
    "for i in ():\n",
    "    i=i+1"
   ]
  },
  {
   "cell_type": "code",
   "execution_count": 91,
   "metadata": {},
   "outputs": [
    {
     "data": {
      "text/plain": [
       "[[0, 1, 2, 3, 4], [6, 7, 8, 9, 10, 11, 12, 13, 14]]"
      ]
     },
     "execution_count": 91,
     "metadata": {},
     "output_type": "execute_result"
    }
   ],
   "source": [
    "m=[]\n",
    "m.append(list(range(5)))\n",
    "m.append(list(range(6,15)))\n",
    "\n",
    "m"
   ]
  },
  {
   "cell_type": "code",
   "execution_count": 105,
   "metadata": {},
   "outputs": [
    {
     "data": {
      "text/plain": [
       "{(0, 0, 1), (0, 1, 0), (1, 0, 0)}"
      ]
     },
     "execution_count": 105,
     "metadata": {},
     "output_type": "execute_result"
    }
   ],
   "source": [
    "set([(0,0,1),(0,1,0),(1,0,0)])"
   ]
  },
  {
   "cell_type": "code",
   "execution_count": 118,
   "metadata": {},
   "outputs": [
    {
     "data": {
      "text/plain": [
       "(0, 0, 2)"
      ]
     },
     "execution_count": 118,
     "metadata": {},
     "output_type": "execute_result"
    }
   ],
   "source": [
    "pile = np.array([2,4,10,10,4,4,10,9,1,7,8,5])\n",
    "#get_sets(pile,[])\n",
    "m=get_sets_split(pile)\n",
    "n=np.array([len(x) for x in m])\n",
    "n,np.argmax(n)\n",
    "get_best_set(pile)"
   ]
  },
  {
   "cell_type": "code",
   "execution_count": 219,
   "metadata": {},
   "outputs": [],
   "source": [
    "bins = np.arange(0,9)\n",
    "bcs = np.histogram(npiles,bins,density=True)[0]\n",
    "bin_ctrs = 0.5*(bins[1:]+bins[:-1])"
   ]
  },
  {
   "cell_type": "code",
   "execution_count": 220,
   "metadata": {},
   "outputs": [
    {
     "data": {
      "image/png": "[encoded data removed]",
      "text/plain": [
       "<Figure size 288x180 with 1 Axes>"
      ]
     },
     "metadata": {
      "needs_background": "light"
     },
     "output_type": "display_data"
    }
   ],
   "source": [
    "fig,axs=plt.subplots(figsize=(4,2.5))\n",
    "axs.bar(bins[:-1],bcs)\n",
    "axs.set_xlim(-0.5,7.5)\n",
    "#axs.set_yscale('log')\n",
    "axs.set_xlabel('number of piles left')\n",
    "axs.set_ylabel('probability')\n",
    "plt.show()"
   ]
  },
  {
   "cell_type": "code",
   "execution_count": 222,
   "metadata": {},
   "outputs": [
    {
     "data": {
      "text/plain": [
       "array([0.0184, 0.0003, 0.0298, 0.0744, 0.1474, 0.2559, 0.2968, 0.177 ])"
      ]
     },
     "execution_count": 222,
     "metadata": {},
     "output_type": "execute_result"
    }
   ],
   "source": [
    "bcs"
   ]
  },
  {
   "cell_type": "code",
   "execution_count": 227,
   "metadata": {},
   "outputs": [
    {
     "data": {
      "text/plain": [
       "(array([ 902, 5020, 8159]),)"
      ]
     },
     "execution_count": 227,
     "metadata": {},
     "output_type": "execute_result"
    }
   ],
   "source": [
    "np.where(npiles==1)"
   ]
  },
  {
   "cell_type": "code",
   "execution_count": null,
   "metadata": {},
   "outputs": [],
   "source": [
    "gm"
   ]
  },
  {
   "cell_type": "code",
   "execution_count": 226,
   "metadata": {},
   "outputs": [
    {
     "data": {
      "text/plain": [
       "0.018518518518518517"
      ]
     },
     "execution_count": 226,
     "metadata": {},
     "output_type": "execute_result"
    }
   ],
   "source": [
    "1/54"
   ]
  },
  {
   "cell_type": "code",
   "execution_count": 122,
   "metadata": {},
   "outputs": [],
   "source": [
    "if None:\n",
    "    print('hi')"
   ]
  },
  {
   "cell_type": "code",
   "execution_count": 132,
   "metadata": {},
   "outputs": [
    {
     "data": {
      "text/plain": [
       "(0,)"
      ]
     },
     "execution_count": 132,
     "metadata": {},
     "output_type": "execute_result"
    }
   ],
   "source": [
    "get_best_set(np.array([2,8,10]))"
   ]
  },
  {
   "cell_type": "code",
   "execution_count": 129,
   "metadata": {},
   "outputs": [
    {
     "data": {
      "text/plain": [
       "[(0,), (1,), (2,)]"
      ]
     },
     "execution_count": 129,
     "metadata": {},
     "output_type": "execute_result"
    }
   ],
   "source": [
    "get_sets_split(np.array([2,8,10]))"
   ]
  },
  {
   "cell_type": "code",
   "execution_count": 148,
   "metadata": {},
   "outputs": [
    {
     "ename": "AttributeError",
     "evalue": "module 'networkx' has no attribute 'from_nested_tupleted_tuple'",
     "output_type": "error",
     "traceback": [
      "\u001b[0;31m---------------------------------------------------------------------------\u001b[0m",
      "\u001b[0;31mAttributeError\u001b[0m                            Traceback (most recent call last)",
      "\u001b[0;32m<ipython-input-148-284617cf089b>\u001b[0m in \u001b[0;36m<module>\u001b[0;34m\u001b[0m\n\u001b[1;32m      1\u001b[0m \u001b[0;32mimport\u001b[0m \u001b[0mnetworkx\u001b[0m \u001b[0;32mas\u001b[0m \u001b[0mnx\u001b[0m\u001b[0;34m\u001b[0m\u001b[0;34m\u001b[0m\u001b[0m\n\u001b[0;32m----> 2\u001b[0;31m \u001b[0mnx\u001b[0m\u001b[0;34m.\u001b[0m\u001b[0mfrom_nested_tupleted_tuple\u001b[0m\u001b[0;34m(\u001b[0m\u001b[0;34m[\u001b[0m\u001b[0mget_sets\u001b[0m\u001b[0;34m(\u001b[0m\u001b[0mnp\u001b[0m\u001b[0;34m.\u001b[0m\u001b[0marray\u001b[0m\u001b[0;34m(\u001b[0m\u001b[0;34m[\u001b[0m\u001b[0;36m2\u001b[0m\u001b[0;34m,\u001b[0m\u001b[0;36m8\u001b[0m\u001b[0;34m,\u001b[0m\u001b[0;36m10\u001b[0m\u001b[0;34m,\u001b[0m\u001b[0;36m10\u001b[0m\u001b[0;34m,\u001b[0m\u001b[0;36m10\u001b[0m\u001b[0;34m,\u001b[0m\u001b[0;36m10\u001b[0m\u001b[0;34m,\u001b[0m\u001b[0;36m10\u001b[0m\u001b[0;34m,\u001b[0m\u001b[0;36m9\u001b[0m\u001b[0;34m,\u001b[0m\u001b[0;36m1\u001b[0m\u001b[0;34m]\u001b[0m\u001b[0;34m)\u001b[0m\u001b[0;34m,\u001b[0m\u001b[0mi\u001b[0m\u001b[0;34m)\u001b[0m \u001b[0;32mfor\u001b[0m \u001b[0mi\u001b[0m \u001b[0;32min\u001b[0m \u001b[0mrange\u001b[0m\u001b[0;34m(\u001b[0m\u001b[0;36m3\u001b[0m\u001b[0;34m)\u001b[0m\u001b[0;34m]\u001b[0m\u001b[0;34m)\u001b[0m\u001b[0;34m\u001b[0m\u001b[0;34m\u001b[0m\u001b[0m\n\u001b[0m",
      "\u001b[0;31mAttributeError\u001b[0m: module 'networkx' has no attribute 'from_nested_tupleted_tuple'"
     ]
    }
   ],
   "source": [
    "import networkx as nx\n",
    "nx.from_nested_tupleted_tuple([get_sets(np.array([2,8,10,10,10,10,10,9,1]),i) for i in range(3)])"
   ]
  },
  {
   "cell_type": "code",
   "execution_count": 150,
   "metadata": {},
   "outputs": [
    {
     "data": {
      "text/plain": [
       "'2.5'"
      ]
     },
     "execution_count": 150,
     "metadata": {},
     "output_type": "execute_result"
    }
   ],
   "source": [
    "nx.__version__"
   ]
  },
  {
   "cell_type": "code",
   "execution_count": 117,
   "metadata": {},
   "outputs": [
    {
     "data": {
      "text/plain": [
       "([[7, 5, 2, 7, 4, 5, 10, 10, 7],\n",
       "  [3, 9, 7, 2, 10, 6, 10, 5, 4],\n",
       "  [3, 10, 1, 3, 10, 8, 4, 6, 6],\n",
       "  [1, 10, 10, 8, 4, 10, 1, 10, 10],\n",
       "  [8, 5, 10, 1, 2, 9, 10, 8, 9, 10, 3],\n",
       "  [9, 6, 2, 10, 10]],\n",
       " [],\n",
       " 16)"
      ]
     },
     "execution_count": 117,
     "metadata": {},
     "output_type": "execute_result"
    }
   ],
   "source": [
    "play_game()"
   ]
  },
  {
   "cell_type": "code",
   "execution_count": 74,
   "metadata": {},
   "outputs": [],
   "source": [
    "ngames = 20000\n",
    "ps     = [play_game(max_iter=5000) for i in range(ngames)]"
   ]
  },
  {
   "cell_type": "code",
   "execution_count": 77,
   "metadata": {},
   "outputs": [],
   "source": [
    "npiles = np.array([len(gm[0]) for gm in ps])\n",
    "nmoves = np.array([gm[2] for gm in ps])"
   ]
  },
  {
   "cell_type": "code",
   "execution_count": 78,
   "metadata": {},
   "outputs": [
    {
     "data": {
      "image/png": "[encoded data removed]",
      "text/plain": [
       "<Figure size 640x480 with 1 Axes>"
      ]
     },
     "metadata": {},
     "output_type": "display_data"
    }
   ],
   "source": [
    "fig,axs=plt.subplots()\n",
    "axs.hist(np.log10(nmoves[np.where(npiles==0)]),bins=20)\n",
    "#axs.set_xscale('log')\n",
    "plt.show()"
   ]
  },
  {
   "cell_type": "code",
   "execution_count": 79,
   "metadata": {},
   "outputs": [],
   "source": []
  },
  {
   "cell_type": "code",
   "execution_count": 80,
   "metadata": {},
   "outputs": [],
   "source": [
    "ncards = len(deck)\n",
    "ngames = 100"
   ]
  },
  {
   "cell_type": "code",
   "execution_count": 81,
   "metadata": {},
   "outputs": [
    {
     "data": {
      "text/plain": [
       "array([0.018  , 0.01185, 0.0523 , 0.08595, 0.1813 , 0.2608 , 0.24025,\n",
       "       0.14955])"
      ]
     },
     "execution_count": 81,
     "metadata": {},
     "output_type": "execute_result"
    }
   ],
   "source": [
    "bcs"
   ]
  },
  {
   "cell_type": "code",
   "execution_count": 9,
   "metadata": {},
   "outputs": [],
   "source": [
    "#np.array_equal(np.sort(deck[shuf]),np.sort(deck))"
   ]
  },
  {
   "cell_type": "code",
   "execution_count": 242,
   "metadata": {},
   "outputs": [
    {
     "ename": "IndexError",
     "evalue": "list index out of range",
     "output_type": "error",
     "traceback": [
      "\u001b[0;31m---------------------------------------------------------------------------\u001b[0m",
      "\u001b[0;31mIndexError\u001b[0m                                Traceback (most recent call last)",
      "\u001b[0;32m<ipython-input-242-d18acedb6005>\u001b[0m in \u001b[0;36m<module>\u001b[0;34m\u001b[0m\n\u001b[1;32m      1\u001b[0m \u001b[0mz\u001b[0m\u001b[0;34m=\u001b[0m\u001b[0;34m[\u001b[0m\u001b[0;34m]\u001b[0m\u001b[0;34m\u001b[0m\u001b[0;34m\u001b[0m\u001b[0m\n\u001b[0;32m----> 2\u001b[0;31m \u001b[0midxs2pop\u001b[0m\u001b[0;34m[\u001b[0m\u001b[0mz\u001b[0m\u001b[0;34m[\u001b[0m\u001b[0;36m0\u001b[0m\u001b[0;34m]\u001b[0m\u001b[0;34m]\u001b[0m\u001b[0;34m\u001b[0m\u001b[0;34m\u001b[0m\u001b[0m\n\u001b[0m",
      "\u001b[0;31mIndexError\u001b[0m: list index out of range"
     ]
    }
   ],
   "source": [
    "#z=[]\n",
    "#idxs2pop[z[0]]"
   ]
  },
  {
   "cell_type": "code",
   "execution_count": 346,
   "metadata": {},
   "outputs": [
    {
     "data": {
      "text/plain": [
       "array([0.022, 0.026, 0.06 , 0.157, 0.238, 0.318, 0.179])"
      ]
     },
     "execution_count": 346,
     "metadata": {},
     "output_type": "execute_result"
    }
   ],
   "source": [
    "bcs"
   ]
  },
  {
   "cell_type": "code",
   "execution_count": 157,
   "metadata": {},
   "outputs": [],
   "source": [
    "p,d,ic = play_game(seed=1)"
   ]
  },
  {
   "cell_type": "code",
   "execution_count": 86,
   "metadata": {},
   "outputs": [
    {
     "data": {
      "text/plain": [
       "True"
      ]
     },
     "execution_count": 86,
     "metadata": {},
     "output_type": "execute_result"
    }
   ],
   "source": [
    "np.array_equal(np.sort(mf.flatten2d(piles)),np.sort(deck))"
   ]
  },
  {
   "cell_type": "code",
   "execution_count": 72,
   "metadata": {},
   "outputs": [
    {
     "data": {
      "text/plain": [
       "[[10.0, 9.0, 7.0],\n",
       " [3.0],\n",
       " [10.0, 8.0],\n",
       " [7.0, 10.0],\n",
       " [5.0, 4.0],\n",
       " [9.0, 6.0],\n",
       " [1.0, 10.0]]"
      ]
     },
     "execution_count": 72,
     "metadata": {},
     "output_type": "execute_result"
    }
   ],
   "source": [
    "piles"
   ]
  },
  {
   "cell_type": "code",
   "execution_count": null,
   "metadata": {},
   "outputs": [],
   "source": []
  }
 ],
 "metadata": {
  "kernelspec": {
   "display_name": "Python [conda env:bifurc]",
   "language": "python",
   "name": "conda-env-bifurc-py"
  },
  "language_info": {
   "codemirror_mode": {
    "name": "ipython",
    "version": 3
   },
   "file_extension": ".py",
   "mimetype": "text/x-python",
   "name": "python",
   "nbconvert_exporter": "python",
   "pygments_lexer": "ipython3",
   "version": "3.8.0"
  }
 },
 "nbformat": 4,
 "nbformat_minor": 2
}
