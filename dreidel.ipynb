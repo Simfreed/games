{
 "cells": [
  {
   "cell_type": "code",
   "execution_count": 49,
   "metadata": {},
   "outputs": [],
   "source": [
    "import matplotlib\n",
    "\n",
    "from matplotlib import colors, ticker, gridspec, rc, transforms\n",
    "from matplotlib.ticker import PercentFormatter, LogFormatter, FuncFormatter, LogLocator, AutoMinorLocator\n",
    "from mpl_toolkits.axes_grid1 import make_axes_locatable\n",
    "from collections import Counter, OrderedDict\n",
    "\n",
    "import numpy as np\n",
    "from numpy import linalg as linalg\n",
    "\n",
    "\n",
    "import os\n",
    "from importlib import reload\n",
    "\n",
    "import myfun as mf\n",
    "import numpy as np\n",
    "\n",
    "# setup matplotlib latex use\n",
    "#matplotlib.use('agg')\n",
    "rc('text',usetex=True)\n",
    "rc('text.latex', preamble=r'\\usepackage{color}')\n",
    "os.environ[\"PATH\"] += os.pathsep + '/usr/local/texlive/2018/bin/x86_64-darwin'\n",
    "\n",
    "\n",
    "matplotlib.rc('text', usetex=True)\n",
    "matplotlib.rcParams['text.latex.preamble']=[r\"\\usepackage{amsmath}\"]\n",
    "\n",
    "import matplotlib.pyplot as plt"
   ]
  },
  {
   "cell_type": "code",
   "execution_count": 2,
   "metadata": {},
   "outputs": [],
   "source": [
    "import numpy.random as rng"
   ]
  },
  {
   "cell_type": "code",
   "execution_count": 5,
   "metadata": {},
   "outputs": [
    {
     "data": {
      "text/plain": [
       "0"
      ]
     },
     "execution_count": 5,
     "metadata": {},
     "output_type": "execute_result"
    }
   ],
   "source": [
    "rng.randint(4)"
   ]
  },
  {
   "cell_type": "code",
   "execution_count": 6,
   "metadata": {},
   "outputs": [],
   "source": [
    "z={1,3,-1}"
   ]
  },
  {
   "cell_type": "code",
   "execution_count": 8,
   "metadata": {},
   "outputs": [],
   "source": [
    "z.remove(3)"
   ]
  },
  {
   "cell_type": "code",
   "execution_count": 11,
   "metadata": {},
   "outputs": [
    {
     "data": {
      "text/plain": [
       "({-1, 1}, 2, {0, 1, 2})"
      ]
     },
     "execution_count": 11,
     "metadata": {},
     "output_type": "execute_result"
    }
   ],
   "source": [
    "z, len(z),set(range(3))"
   ]
  },
  {
   "cell_type": "code",
   "execution_count": 41,
   "metadata": {},
   "outputs": [],
   "source": [
    "nplayers = 2\n",
    "tot      = 8\n",
    "\n",
    "\n",
    "def dreidel(nplayers, tot):\n",
    "    nper     = np.floor(tot/nplayers)\n",
    "    hands    = nper*np.ones(nplayers)\n",
    "    pot      = tot - nper*nplayers\n",
    "    nrolls   = 0\n",
    "    players  = set(range(nplayers))\n",
    "    \n",
    "    nplayerz = nplayers\n",
    "    done = False\n",
    "    while nrolls < 10000:\n",
    "        for pl in range(nplayers):\n",
    "            \n",
    "            nrolls += 1\n",
    "\n",
    "            # ante\n",
    "            hands[pl] -= 1\n",
    "            pot       += 1\n",
    "\n",
    "            # roll\n",
    "            # wins = [nun, gimmel, hey, shin]\n",
    "            wins       = np.array([0, pot, np.floor(pot/2), -1])\n",
    "            win        = max(wins[rng.randint(4)], -1*hands[pl])\n",
    "            hands[pl] += win\n",
    "            pot       -= win\n",
    "\n",
    "            if hands[pl] == 0:\n",
    "                nplayerz -= 1\n",
    "            if nplayerz == 1:\n",
    "                done = True\n",
    "                break\n",
    "        if done:\n",
    "            break\n",
    "    return nrolls"
   ]
  },
  {
   "cell_type": "code",
   "execution_count": 96,
   "metadata": {},
   "outputs": [],
   "source": [
    "playersRange = np.arange(2,11)\n",
    "totRange = np.arange(10,110,10)\n",
    "\n",
    "sims = np.array([[[dreidel(i,j) for t in range(100)] for i in playersRange] for j in totRange])"
   ]
  },
  {
   "cell_type": "code",
   "execution_count": 93,
   "metadata": {},
   "outputs": [
    {
     "data": {
      "text/plain": [
       "array([[  10.4,   10.5,    8.5,   13.1,   10.4,   12.9,   13.9,   14.6,\n",
       "          14.9],\n",
       "       [  63. ,   21.6,   28.7,   23.3,   29.7,   17.7,   21.2,   24.2,\n",
       "          24.1],\n",
       "       [ 156.6,   45.1,   49.6,   58. ,   44. ,   43.9,   39. ,   39.7,\n",
       "          38.8],\n",
       "       [ 145.5,   85.2,   72.7,   60.1,   60. ,   61.7,   66. ,   50.9,\n",
       "          59.2],\n",
       "       [ 381.1,  113.7,   97.2,  108. ,   77.3,   92.1,   80.5,   75.7,\n",
       "          63.1],\n",
       "       [ 541.9,  291.7,  184.6,  109.7,   96.3,  102.1,   89.8,   79.2,\n",
       "          90.8],\n",
       "       [ 657. ,  395.5,  185.2,  105. ,  122.6,  110.2,  121.9,  102.3,\n",
       "         117.7],\n",
       "       [ 718.7,  550.7,  244.9,  244.3,  151.9,  120. ,  137.7,  167.2,\n",
       "         126.2],\n",
       "       [1745.4,  441.7,  287.6,  156.8,  192.7,  160.8,  189. ,  190.6,\n",
       "         154.2],\n",
       "       [1218.1,  587.4,  452.7,  259.5,  167.6,  220.3,  205.1,  191.3,\n",
       "         181.8]])"
      ]
     },
     "execution_count": 93,
     "metadata": {},
     "output_type": "execute_result"
    }
   ],
   "source": [
    "np.mean(sims,axis=2)"
   ]
  },
  {
   "cell_type": "code",
   "execution_count": 95,
   "metadata": {},
   "outputs": [
    {
     "data": {
      "image/png": "[encoded data removed]",
      "text/plain": [
       "<Figure size 432x288 with 2 Axes>"
      ]
     },
     "metadata": {
      "needs_background": "light"
     },
     "output_type": "display_data"
    }
   ],
   "source": [
    "fig,axs=plt.subplots()\n",
    "im = axs.imshow(np.mean(sims,axis=2).T,origin='lower')\n",
    "axs.set_yticks(range(playersRange.shape[0]))\n",
    "axs.set_yticklabels(playersRange)\n",
    "\n",
    "axs.set_xticks(range(len(totRange)))\n",
    "axs.set_xticklabels(totRange)\n",
    "\n",
    "axs.set_xlabel('number of coins')\n",
    "axs.set_ylabel('number of players')\n",
    "\n",
    "divider = make_axes_locatable(axs)\n",
    "cax2     = divider.append_axes(\"right\", size=0.2, pad=0.1)\n",
    "\n",
    "cbar = fig.colorbar(im, cax=cax2)\n",
    "cbar.set_label('average num rolls', rotation = 270, labelpad = 20)\n",
    "cax2.xaxis.set_label_position('top')\n",
    "cax2.xaxis.set_ticks_position('top')\n",
    "\n",
    "mf.set_axs_fontsize(axs,20)\n",
    "mf.set_axs_fontsize(cax2,20)"
   ]
  },
  {
   "cell_type": "code",
   "execution_count": 63,
   "metadata": {},
   "outputs": [
    {
     "data": {
      "text/plain": [
       "(array([6.103e+03, 2.646e+03, 8.160e+02, 2.800e+02, 9.700e+01, 3.500e+01,\n",
       "        1.100e+01, 7.000e+00, 4.000e+00, 1.000e+00]),\n",
       " array([  5. ,  17.8,  30.6,  43.4,  56.2,  69. ,  81.8,  94.6, 107.4,\n",
       "        120.2, 133. ]),\n",
       " <a list of 10 Patch objects>)"
      ]
     },
     "execution_count": 63,
     "metadata": {},
     "output_type": "execute_result"
    },
    {
     "data": {
      "image/png": "[encoded data removed]",
      "text/plain": [
       "<Figure size 432x288 with 1 Axes>"
      ]
     },
     "metadata": {
      "needs_background": "light"
     },
     "output_type": "display_data"
    }
   ],
   "source": [
    "fig,axs=plt.subplots()\n",
    "axs.hist(sims)"
   ]
  },
  {
   "cell_type": "code",
   "execution_count": 24,
   "metadata": {},
   "outputs": [
    {
     "data": {
      "text/plain": [
       "-1.0"
      ]
     },
     "execution_count": 24,
     "metadata": {},
     "output_type": "execute_result"
    }
   ],
   "source": [
    "max(wins[rng.randint(4)],-1*hands[pl])"
   ]
  },
  {
   "cell_type": "code",
   "execution_count": 22,
   "metadata": {},
   "outputs": [
    {
     "data": {
      "text/plain": [
       "(array([ 0.,  1.,  0., -1.]), -3.0)"
      ]
     },
     "execution_count": 22,
     "metadata": {},
     "output_type": "execute_result"
    }
   ],
   "source": [
    "wins,-1*hands[pl]"
   ]
  },
  {
   "cell_type": "code",
   "execution_count": null,
   "metadata": {},
   "outputs": [],
   "source": []
  }
 ],
 "metadata": {
  "kernelspec": {
   "display_name": "Python (ml3)",
   "language": "python",
   "name": "ml3"
  },
  "language_info": {
   "codemirror_mode": {
    "name": "ipython",
    "version": 3
   },
   "file_extension": ".py",
   "mimetype": "text/x-python",
   "name": "python",
   "nbconvert_exporter": "python",
   "pygments_lexer": "ipython3",
   "version": "3.7.4"
  }
 },
 "nbformat": 4,
 "nbformat_minor": 2
}
